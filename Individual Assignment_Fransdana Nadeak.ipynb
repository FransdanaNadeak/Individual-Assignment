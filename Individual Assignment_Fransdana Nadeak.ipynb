{
 "cells": [
  {
   "cell_type": "markdown",
   "metadata": {},
   "source": [
    "## Individual Assignment"
   ]
  },
  {
   "cell_type": "code",
   "execution_count": 153,
   "metadata": {},
   "outputs": [
    {
     "data": {
      "text/html": [
       "<div>\n",
       "<style scoped>\n",
       "    .dataframe tbody tr th:only-of-type {\n",
       "        vertical-align: middle;\n",
       "    }\n",
       "\n",
       "    .dataframe tbody tr th {\n",
       "        vertical-align: top;\n",
       "    }\n",
       "\n",
       "    .dataframe thead th {\n",
       "        text-align: right;\n",
       "    }\n",
       "</style>\n",
       "<table border=\"1\" class=\"dataframe\">\n",
       "  <thead>\n",
       "    <tr style=\"text-align: right;\">\n",
       "      <th></th>\n",
       "      <th>movie_ID</th>\n",
       "      <th>movie_title</th>\n",
       "      <th>duration</th>\n",
       "      <th>color</th>\n",
       "      <th>title_year</th>\n",
       "      <th>country</th>\n",
       "      <th>language</th>\n",
       "      <th>content_rating</th>\n",
       "      <th>budget_USD</th>\n",
       "      <th>gross_USD</th>\n",
       "      <th>...</th>\n",
       "      <th>actor_3_facebook?</th>\n",
       "      <th>actor_3_facebook_likes</th>\n",
       "      <th>cast_total_facebook_likes</th>\n",
       "      <th>movie_facebook?</th>\n",
       "      <th>movie_facebook_likes;</th>\n",
       "      <th>facenumber_in_poster</th>\n",
       "      <th>num_voted_users</th>\n",
       "      <th>num_user_for_reviews</th>\n",
       "      <th>imdb_score</th>\n",
       "      <th>imdb_top_250</th>\n",
       "    </tr>\n",
       "  </thead>\n",
       "  <tbody>\n",
       "    <tr>\n",
       "      <th>0</th>\n",
       "      <td>1</td>\n",
       "      <td>Avatar</td>\n",
       "      <td>178</td>\n",
       "      <td>1</td>\n",
       "      <td>2009</td>\n",
       "      <td>USA</td>\n",
       "      <td>English</td>\n",
       "      <td>PG-13</td>\n",
       "      <td>237000000</td>\n",
       "      <td>760505847</td>\n",
       "      <td>...</td>\n",
       "      <td>1</td>\n",
       "      <td>855</td>\n",
       "      <td>4834</td>\n",
       "      <td>1</td>\n",
       "      <td>33000</td>\n",
       "      <td>0</td>\n",
       "      <td>886204</td>\n",
       "      <td>3054</td>\n",
       "      <td>7.9</td>\n",
       "      <td>0</td>\n",
       "    </tr>\n",
       "    <tr>\n",
       "      <th>1</th>\n",
       "      <td>2</td>\n",
       "      <td>Pirates of the Caribbean: At World's End</td>\n",
       "      <td>169</td>\n",
       "      <td>1</td>\n",
       "      <td>2007</td>\n",
       "      <td>USA</td>\n",
       "      <td>English</td>\n",
       "      <td>PG-13</td>\n",
       "      <td>300000000</td>\n",
       "      <td>309404152</td>\n",
       "      <td>...</td>\n",
       "      <td>1</td>\n",
       "      <td>1000</td>\n",
       "      <td>48350</td>\n",
       "      <td>0</td>\n",
       "      <td>0</td>\n",
       "      <td>0</td>\n",
       "      <td>471220</td>\n",
       "      <td>1238</td>\n",
       "      <td>7.1</td>\n",
       "      <td>0</td>\n",
       "    </tr>\n",
       "    <tr>\n",
       "      <th>2</th>\n",
       "      <td>3</td>\n",
       "      <td>The Dark Knight Rises</td>\n",
       "      <td>164</td>\n",
       "      <td>1</td>\n",
       "      <td>2012</td>\n",
       "      <td>USA</td>\n",
       "      <td>English</td>\n",
       "      <td>PG-13</td>\n",
       "      <td>250000000</td>\n",
       "      <td>448130642</td>\n",
       "      <td>...</td>\n",
       "      <td>1</td>\n",
       "      <td>23000</td>\n",
       "      <td>106759</td>\n",
       "      <td>1</td>\n",
       "      <td>164000</td>\n",
       "      <td>0</td>\n",
       "      <td>1144337</td>\n",
       "      <td>2701</td>\n",
       "      <td>8.5</td>\n",
       "      <td>1</td>\n",
       "    </tr>\n",
       "    <tr>\n",
       "      <th>3</th>\n",
       "      <td>4</td>\n",
       "      <td>Spider-Man 3</td>\n",
       "      <td>156</td>\n",
       "      <td>1</td>\n",
       "      <td>2007</td>\n",
       "      <td>USA</td>\n",
       "      <td>English</td>\n",
       "      <td>PG-13</td>\n",
       "      <td>258000000</td>\n",
       "      <td>336530303</td>\n",
       "      <td>...</td>\n",
       "      <td>1</td>\n",
       "      <td>4000</td>\n",
       "      <td>46055</td>\n",
       "      <td>0</td>\n",
       "      <td>0</td>\n",
       "      <td>0</td>\n",
       "      <td>383056</td>\n",
       "      <td>1902</td>\n",
       "      <td>6.2</td>\n",
       "      <td>0</td>\n",
       "    </tr>\n",
       "    <tr>\n",
       "      <th>4</th>\n",
       "      <td>5</td>\n",
       "      <td>Batman v Superman: Dawn of Justice</td>\n",
       "      <td>183</td>\n",
       "      <td>1</td>\n",
       "      <td>2016</td>\n",
       "      <td>USA</td>\n",
       "      <td>English</td>\n",
       "      <td>PG-13</td>\n",
       "      <td>250000000</td>\n",
       "      <td>330249062</td>\n",
       "      <td>...</td>\n",
       "      <td>1</td>\n",
       "      <td>2000</td>\n",
       "      <td>24450</td>\n",
       "      <td>1</td>\n",
       "      <td>197000</td>\n",
       "      <td>0</td>\n",
       "      <td>371639</td>\n",
       "      <td>3018</td>\n",
       "      <td>6.9</td>\n",
       "      <td>0</td>\n",
       "    </tr>\n",
       "  </tbody>\n",
       "</table>\n",
       "<p>5 rows × 36 columns</p>\n",
       "</div>"
      ],
      "text/plain": [
       "   movie_ID                               movie_title  duration  color  \\\n",
       "0         1                                    Avatar       178      1   \n",
       "1         2  Pirates of the Caribbean: At World's End       169      1   \n",
       "2         3                     The Dark Knight Rises       164      1   \n",
       "3         4                              Spider-Man 3       156      1   \n",
       "4         5        Batman v Superman: Dawn of Justice       183      1   \n",
       "\n",
       "   title_year country language content_rating  budget_USD  gross_USD  \\\n",
       "0        2009     USA  English          PG-13   237000000  760505847   \n",
       "1        2007     USA  English          PG-13   300000000  309404152   \n",
       "2        2012     USA  English          PG-13   250000000  448130642   \n",
       "3        2007     USA  English          PG-13   258000000  336530303   \n",
       "4        2016     USA  English          PG-13   250000000  330249062   \n",
       "\n",
       "       ...       actor_3_facebook?  actor_3_facebook_likes  \\\n",
       "0      ...                       1                     855   \n",
       "1      ...                       1                    1000   \n",
       "2      ...                       1                   23000   \n",
       "3      ...                       1                    4000   \n",
       "4      ...                       1                    2000   \n",
       "\n",
       "  cast_total_facebook_likes movie_facebook?  movie_facebook_likes;  \\\n",
       "0                      4834               1                  33000   \n",
       "1                     48350               0                      0   \n",
       "2                    106759               1                 164000   \n",
       "3                     46055               0                      0   \n",
       "4                     24450               1                 197000   \n",
       "\n",
       "   facenumber_in_poster num_voted_users  num_user_for_reviews  imdb_score  \\\n",
       "0                     0          886204                  3054         7.9   \n",
       "1                     0          471220                  1238         7.1   \n",
       "2                     0         1144337                  2701         8.5   \n",
       "3                     0          383056                  1902         6.2   \n",
       "4                     0          371639                  3018         6.9   \n",
       "\n",
       "   imdb_top_250  \n",
       "0             0  \n",
       "1             0  \n",
       "2             1  \n",
       "3             0  \n",
       "4             0  \n",
       "\n",
       "[5 rows x 36 columns]"
      ]
     },
     "execution_count": 153,
     "metadata": {},
     "output_type": "execute_result"
    }
   ],
   "source": [
    "data=pd.read_csv('IMDB-database-update.csv', encoding='latin1')\n",
    "data.head()"
   ]
  },
  {
   "cell_type": "code",
   "execution_count": 166,
   "metadata": {},
   "outputs": [
    {
     "name": "stdout",
     "output_type": "stream",
     "text": [
      "<class 'pandas.core.frame.DataFrame'>\n",
      "Int64Index: 3781 entries, 1084 to 0\n",
      "Data columns (total 36 columns):\n",
      "movie_ID                     3781 non-null int64\n",
      "movie_title                  3781 non-null object\n",
      "duration                     3781 non-null int64\n",
      "color                        3781 non-null int64\n",
      "title_year                   3781 non-null int64\n",
      "country                      3781 non-null object\n",
      "language                     3781 non-null object\n",
      "content_rating               3781 non-null object\n",
      "budget_USD                   3781 non-null int64\n",
      "gross_USD                    3781 non-null int64\n",
      "net_USD                      3781 non-null int64\n",
      "profitable                   3781 non-null int64\n",
      "director_name                3781 non-null object\n",
      "director_top20?              3781 non-null object\n",
      "director_facebook?           3781 non-null int64\n",
      "director_facebook_likes      3781 non-null int64\n",
      "actor_1_name                 3781 non-null object\n",
      "actor_top20?                 3781 non-null int64\n",
      "actor_1_facebook?            3781 non-null int64\n",
      "actor_1_facebook_likes       3781 non-null int64\n",
      "actor_2_name                 3781 non-null object\n",
      "actor_top20?.1               3781 non-null int64\n",
      "actor_2_facebook?            3781 non-null int64\n",
      "actor_2_facebook_likes       3781 non-null int64\n",
      "actor_3_name                 3781 non-null object\n",
      "actor_top20?.2               3781 non-null int64\n",
      "actor_3_facebook?            3781 non-null int64\n",
      "actor_3_facebook_likes       3781 non-null int64\n",
      "cast_total_facebook_likes    3781 non-null int64\n",
      "movie_facebook?              3781 non-null int64\n",
      "movie_facebook_likes;        3781 non-null int64\n",
      "facenumber_in_poster         3781 non-null int64\n",
      "num_voted_users              3781 non-null int64\n",
      "num_user_for_reviews         3781 non-null int64\n",
      "imdb_score                   3781 non-null float64\n",
      "imdb_top_250                 3781 non-null int64\n",
      "dtypes: float64(1), int64(26), object(9)\n",
      "memory usage: 1.1+ MB\n"
     ]
    }
   ],
   "source": [
    "data.info()"
   ]
  },
  {
   "cell_type": "code",
   "execution_count": 165,
   "metadata": {},
   "outputs": [
    {
     "data": {
      "text/plain": [
       "(3781, 36)"
      ]
     },
     "execution_count": 165,
     "metadata": {},
     "output_type": "execute_result"
    }
   ],
   "source": [
    "#How many rows and columns reflected on dataset file IMDB-database-update.csv?\n",
    "data.shape\n",
    "data=pd.DataFrame(index=data[''])"
   ]
  },
  {
   "cell_type": "code",
   "execution_count": 226,
   "metadata": {},
   "outputs": [
    {
     "data": {
      "text/html": [
       "<div>\n",
       "<style scoped>\n",
       "    .dataframe tbody tr th:only-of-type {\n",
       "        vertical-align: middle;\n",
       "    }\n",
       "\n",
       "    .dataframe tbody tr th {\n",
       "        vertical-align: top;\n",
       "    }\n",
       "\n",
       "    .dataframe thead th {\n",
       "        text-align: right;\n",
       "    }\n",
       "</style>\n",
       "<table border=\"1\" class=\"dataframe\">\n",
       "  <thead>\n",
       "    <tr style=\"text-align: right;\">\n",
       "      <th></th>\n",
       "      <th>movie_ID</th>\n",
       "      <th>net_USD</th>\n",
       "    </tr>\n",
       "  </thead>\n",
       "  <tbody>\n",
       "    <tr>\n",
       "      <th>1614</th>\n",
       "      <td>1615</td>\n",
       "      <td>294645577</td>\n",
       "    </tr>\n",
       "    <tr>\n",
       "      <th>236</th>\n",
       "      <td>237</td>\n",
       "      <td>292049635</td>\n",
       "    </tr>\n",
       "    <tr>\n",
       "      <th>57</th>\n",
       "      <td>58</td>\n",
       "      <td>250736600</td>\n",
       "    </tr>\n",
       "  </tbody>\n",
       "</table>\n",
       "</div>"
      ],
      "text/plain": [
       "      movie_ID    net_USD\n",
       "1614      1615  294645577\n",
       "236        237  292049635\n",
       "57          58  250736600"
      ]
     },
     "execution_count": 226,
     "metadata": {},
     "output_type": "execute_result"
    }
   ],
   "source": [
    "#What are the top 3 movies with highest nett profit in 2013?\n",
    "data2013=data[data['title_year']==2013]\n",
    "data2013.sort_values(by=['net_USD'],ascending=False)[['movie_ID','net_USD']].head(3)"
   ]
  },
  {
   "cell_type": "code",
   "execution_count": 227,
   "metadata": {},
   "outputs": [
    {
     "data": {
      "text/html": [
       "<div>\n",
       "<style scoped>\n",
       "    .dataframe tbody tr th:only-of-type {\n",
       "        vertical-align: middle;\n",
       "    }\n",
       "\n",
       "    .dataframe tbody tr th {\n",
       "        vertical-align: top;\n",
       "    }\n",
       "\n",
       "    .dataframe thead th {\n",
       "        text-align: right;\n",
       "    }\n",
       "</style>\n",
       "<table border=\"1\" class=\"dataframe\">\n",
       "  <thead>\n",
       "    <tr style=\"text-align: right;\">\n",
       "      <th></th>\n",
       "      <th>movie_title</th>\n",
       "      <th>gross_USD</th>\n",
       "    </tr>\n",
       "  </thead>\n",
       "  <tbody>\n",
       "    <tr>\n",
       "      <th>0</th>\n",
       "      <td>Avatar</td>\n",
       "      <td>760505847</td>\n",
       "    </tr>\n",
       "    <tr>\n",
       "      <th>19</th>\n",
       "      <td>Transformers: Revenge of the Fallen</td>\n",
       "      <td>402076689</td>\n",
       "    </tr>\n",
       "    <tr>\n",
       "      <th>3094</th>\n",
       "      <td>Harry Potter and the Half-Blood Prince</td>\n",
       "      <td>301956980</td>\n",
       "    </tr>\n",
       "  </tbody>\n",
       "</table>\n",
       "</div>"
      ],
      "text/plain": [
       "                                 movie_title  gross_USD\n",
       "0                                     Avatar  760505847\n",
       "19       Transformers: Revenge of the Fallen  402076689\n",
       "3094  Harry Potter and the Half-Blood Prince  301956980"
      ]
     },
     "execution_count": 227,
     "metadata": {},
     "output_type": "execute_result"
    }
   ],
   "source": [
    "#What are the top 3 movies with highest gross profit in 2009?\n",
    "data2009=data[data['title_year']==2009]\n",
    "data2009.sort_values(by=['gross_USD'],ascending=False)[['movie_title','gross_USD']].head(3)"
   ]
  },
  {
   "cell_type": "code",
   "execution_count": 232,
   "metadata": {},
   "outputs": [
    {
     "data": {
      "text/plain": [
       "153"
      ]
     },
     "execution_count": 232,
     "metadata": {},
     "output_type": "execute_result"
    }
   ],
   "source": [
    "#How many non-english movies are in the dataset?\n",
    "len(data[data['language']!='English'])"
   ]
  },
  {
   "cell_type": "code",
   "execution_count": 202,
   "metadata": {},
   "outputs": [
    {
     "data": {
      "text/plain": [
       "French      33\n",
       "Spanish     23\n",
       "Mandarin    14\n",
       "Name: language, dtype: int64"
      ]
     },
     "execution_count": 202,
     "metadata": {},
     "output_type": "execute_result"
    }
   ],
   "source": [
    "#What are top 3 languages in the dataset aside English (based on number of movies)?\n",
    "data[data['language']!='English']['language'].value_counts().head(3)"
   ]
  },
  {
   "cell_type": "code",
   "execution_count": 225,
   "metadata": {},
   "outputs": [
    {
     "data": {
      "text/plain": [
       "country\n",
       "USA          52003933174\n",
       "UK            1531614524\n",
       "Australia      252571616\n",
       "Name: net_USD, dtype: int64"
      ]
     },
     "execution_count": 225,
     "metadata": {},
     "output_type": "execute_result"
    }
   ],
   "source": [
    "#What are the top 3 countries with the highest nett profit in all dataset times?\n",
    "data[['country','net_USD']].groupby('country').net_USD.sum().sort_values(ascending=False).head(3)"
   ]
  },
  {
   "cell_type": "code",
   "execution_count": 238,
   "metadata": {},
   "outputs": [
    {
     "data": {
      "text/plain": [
       "movie_title\n",
       "12 Years a Slave                          20000000\n",
       "2 Guns                                    61000000\n",
       "20 Feet from Stardom                       1000000\n",
       "21 & Over                                 13000000\n",
       "42                                        40000000\n",
       "47 Ronin                                 175000000\n",
       "A Good Day to Die Hard                    92000000\n",
       "A Haunted House                            2500000\n",
       "A Madea Christmas                         25000000\n",
       "About Time                                12000000\n",
       "Admission                                 13000000\n",
       "Adore                                     16000000\n",
       "After Earth                              130000000\n",
       "American Hustle                           40000000\n",
       "Anchorman 2: The Legend Continues         50000000\n",
       "Antarctica: A Year on Ice                  1000000\n",
       "August: Osage County                      25000000\n",
       "Bad Grandpa                               15000000\n",
       "Bad Words                                 10000000\n",
       "Baggage Claim                              8500000\n",
       "Battle of the Year                        20000000\n",
       "Beautiful Creatures                       60000000\n",
       "Before Midnight                            3000000\n",
       "Begin Again                                8000000\n",
       "Black Nativity                            17500000\n",
       "Blood Ties                                25500000\n",
       "Blue Jasmine                              18000000\n",
       "Blue Ruin                                  1066167\n",
       "Broken City                               35000000\n",
       "Captain Phillips                          55000000\n",
       "                                           ...    \n",
       "The Hunger Games: Catching Fire          130000000\n",
       "The Immigrant                             16000000\n",
       "The Incredible Burt Wonderstone           30000000\n",
       "The Internship                            58000000\n",
       "The Last Days on Mars                      7000000\n",
       "The Last Exorcism Part II                  5000000\n",
       "The Last Stand                            45000000\n",
       "The Lone Ranger                          215000000\n",
       "The Lunchbox                               1000000\n",
       "The Mortal Instruments: City of Bones     60000000\n",
       "The Purge                                  3000000\n",
       "The Railway Man                           18000000\n",
       "The Secret Life of Walter Mitty           90000000\n",
       "The Smurfs 2                             105000000\n",
       "The Spectacular Now                        2500000\n",
       "The To Do List                             1500000\n",
       "The Way Way Back                           5000000\n",
       "The Wolf of Wall Street                  100000000\n",
       "The Wolverine                            120000000\n",
       "The World's End                           20000000\n",
       "The Young and Prodigious T.S. Spivet      33000000\n",
       "This Is the End                           32000000\n",
       "Thor: The Dark World                     170000000\n",
       "Trance                                    20000000\n",
       "Turbo                                    135000000\n",
       "Walking with Dinosaurs 3D                 80000000\n",
       "Warm Bodies                               35000000\n",
       "We're the Millers                         37000000\n",
       "White House Down                         150000000\n",
       "World War Z                              190000000\n",
       "Name: budget_USD, Length: 158, dtype: int64"
      ]
     },
     "execution_count": 238,
     "metadata": {},
     "output_type": "execute_result"
    }
   ],
   "source": [
    "#What are the average budget of all movies in dataset in 2013?\n",
    "data2013[['movie_title','budget_USD']].groupby('movie_title').budget_USD.mean()"
   ]
  },
  {
   "cell_type": "code",
   "execution_count": 257,
   "metadata": {},
   "outputs": [
    {
     "data": {
      "text/html": [
       "<div>\n",
       "<style scoped>\n",
       "    .dataframe tbody tr th:only-of-type {\n",
       "        vertical-align: middle;\n",
       "    }\n",
       "\n",
       "    .dataframe tbody tr th {\n",
       "        vertical-align: top;\n",
       "    }\n",
       "\n",
       "    .dataframe thead th {\n",
       "        text-align: right;\n",
       "    }\n",
       "</style>\n",
       "<table border=\"1\" class=\"dataframe\">\n",
       "  <thead>\n",
       "    <tr style=\"text-align: right;\">\n",
       "      <th></th>\n",
       "      <th>movie_title</th>\n",
       "      <th>duration</th>\n",
       "      <th>color</th>\n",
       "      <th>title_year</th>\n",
       "    </tr>\n",
       "  </thead>\n",
       "  <tbody>\n",
       "    <tr>\n",
       "      <th>1596</th>\n",
       "      <td>Jack the Giant Slayer</td>\n",
       "      <td>114</td>\n",
       "      <td>1</td>\n",
       "      <td>2013</td>\n",
       "    </tr>\n",
       "    <tr>\n",
       "      <th>2587</th>\n",
       "      <td>R.I.P.D.</td>\n",
       "      <td>96</td>\n",
       "      <td>1</td>\n",
       "      <td>2013</td>\n",
       "    </tr>\n",
       "    <tr>\n",
       "      <th>95</th>\n",
       "      <td>After Earth</td>\n",
       "      <td>100</td>\n",
       "      <td>1</td>\n",
       "      <td>2013</td>\n",
       "    </tr>\n",
       "  </tbody>\n",
       "</table>\n",
       "</div>"
      ],
      "text/plain": [
       "                movie_title  duration  color  title_year\n",
       "1596  Jack the Giant Slayer       114      1        2013\n",
       "2587               R.I.P.D.        96      1        2013\n",
       "95              After Earth       100      1        2013"
      ]
     },
     "execution_count": 257,
     "metadata": {},
     "output_type": "execute_result"
    }
   ],
   "source": [
    "data2013.iloc[[1,3,6],1:5]"
   ]
  },
  {
   "cell_type": "code",
   "execution_count": 258,
   "metadata": {},
   "outputs": [
    {
     "data": {
      "text/plain": [
       "movie_title\n",
       "22 Jump Street                                      50000000\n",
       "3 Days to Kill                                      28000000\n",
       "300: Rise of an Empire                             110000000\n",
       "A Haunted House 2                                    4000000\n",
       "A Lego Brickumentary                                 1000000\n",
       "A Million Ways to Die in the West                   40000000\n",
       "A Most Violent Year                                 20000000\n",
       "A Most Wanted Man                                   15000000\n",
       "A Walk Among the Tombstones                         28000000\n",
       "About Last Night                                    12500000\n",
       "Addicted                                             5000000\n",
       "Aloft                                                8000000\n",
       "American Sniper                                     58800000\n",
       "And So It Goes                                      18000000\n",
       "Annabelle                                            6500000\n",
       "Annie                                               65000000\n",
       "Atlas Shrugged: Who Is John Galt?                    5000000\n",
       "Before I Go to Sleep                                22000000\n",
       "Beyond the Lights                                    7000000\n",
       "Big Eyes                                            10000000\n",
       "Big Hero 6                                         165000000\n",
       "Birdman or (The Unexpected Virtue of Ignorance)     18000000\n",
       "Black or White                                       9000000\n",
       "Blended                                             40000000\n",
       "Boyhood                                              4000000\n",
       "Brick Mansions                                      28000000\n",
       "Captain America: The Winter Soldier                170000000\n",
       "Dawn of the Planet of the Apes                     170000000\n",
       "Deliver Us from Evil                                30000000\n",
       "Desert Dancer                                        4000000\n",
       "                                                     ...    \n",
       "The Hundred-Foot Journey                            22000000\n",
       "The Hunger Games: Mockingjay - Part 1              125000000\n",
       "The Imitation Game                                  14000000\n",
       "The Interview                                       44000000\n",
       "The Judge                                           50000000\n",
       "The Legend of Hercules                              70000000\n",
       "The Lego Movie                                      60000000\n",
       "The Maze Runner                                     34000000\n",
       "The Monuments Men                                   70000000\n",
       "The November Man                                    15000000\n",
       "The Nut Job                                         42000000\n",
       "The Other Woman                                     40000000\n",
       "The Purge: Anarchy                                   9000000\n",
       "The Theory of Everything                            15000000\n",
       "The Water Diviner                                   22500000\n",
       "Think Like a Man Too                                24000000\n",
       "This Is Where I Leave You                           19800000\n",
       "Top Five                                            12000000\n",
       "Transcendence                                      100000000\n",
       "Transformers: Age of Extinction                    210000000\n",
       "Tusk                                                 3000000\n",
       "Unbroken                                            65000000\n",
       "Unfriended                                           1000000\n",
       "When the Game Stands Tall                           15000000\n",
       "While We're Young                                   10000000\n",
       "Whiplash                                             3300000\n",
       "Wild                                                15000000\n",
       "Winter's Tale                                       60000000\n",
       "Wish I Was Here                                      6000000\n",
       "X-Men: Days of Future Past                         200000000\n",
       "Name: budget_USD, Length: 143, dtype: int64"
      ]
     },
     "execution_count": 258,
     "metadata": {},
     "output_type": "execute_result"
    }
   ],
   "source": [
    "#What are the average budget of all movies in dataset in 2014?\n",
    "data2014=data[data['title_year']==2014]\n",
    "data[data['title_year']==2014][['movie_title','budget_USD']].groupby('movie_title').budget_USD.mean()"
   ]
  },
  {
   "cell_type": "code",
   "execution_count": 269,
   "metadata": {},
   "outputs": [
    {
     "data": {
      "text/plain": [
       "51069610.77439024"
      ]
     },
     "execution_count": 269,
     "metadata": {},
     "output_type": "execute_result"
    }
   ],
   "source": [
    "#Which one is higher, average budget of all movies in dataset in 2014 or 2013? \n",
    "np.max([np.mean(data2013['budget_USD']),\n",
    "        np.mean(data2014['budget_USD'])])\n",
    "#np.mean(data2013['budget_USD'])\n",
    "#np.mean(data2014['budget_USD'])"
   ]
  },
  {
   "cell_type": "code",
   "execution_count": 263,
   "metadata": {},
   "outputs": [
    {
     "data": {
      "text/plain": [
       "51069610.77439024"
      ]
     },
     "execution_count": 263,
     "metadata": {},
     "output_type": "execute_result"
    }
   ],
   "source": [
    "np.mean(data2013['budget_USD'])"
   ]
  },
  {
   "cell_type": "code",
   "execution_count": 270,
   "metadata": {},
   "outputs": [
    {
     "data": {
      "text/html": [
       "<div>\n",
       "<style scoped>\n",
       "    .dataframe tbody tr th:only-of-type {\n",
       "        vertical-align: middle;\n",
       "    }\n",
       "\n",
       "    .dataframe tbody tr th {\n",
       "        vertical-align: top;\n",
       "    }\n",
       "\n",
       "    .dataframe thead th {\n",
       "        text-align: right;\n",
       "    }\n",
       "</style>\n",
       "<table border=\"1\" class=\"dataframe\">\n",
       "  <thead>\n",
       "    <tr style=\"text-align: right;\">\n",
       "      <th></th>\n",
       "      <th>movie_ID</th>\n",
       "      <th>movie_title</th>\n",
       "      <th>duration</th>\n",
       "      <th>color</th>\n",
       "      <th>title_year</th>\n",
       "      <th>country</th>\n",
       "      <th>language</th>\n",
       "      <th>content_rating</th>\n",
       "      <th>budget_USD</th>\n",
       "      <th>gross_USD</th>\n",
       "      <th>...</th>\n",
       "      <th>actor_3_facebook?</th>\n",
       "      <th>actor_3_facebook_likes</th>\n",
       "      <th>cast_total_facebook_likes</th>\n",
       "      <th>movie_facebook?</th>\n",
       "      <th>movie_facebook_likes;</th>\n",
       "      <th>facenumber_in_poster</th>\n",
       "      <th>num_voted_users</th>\n",
       "      <th>num_user_for_reviews</th>\n",
       "      <th>imdb_score</th>\n",
       "      <th>imdb_top_250</th>\n",
       "    </tr>\n",
       "  </thead>\n",
       "  <tbody>\n",
       "    <tr>\n",
       "      <th>0</th>\n",
       "      <td>1</td>\n",
       "      <td>Avatar</td>\n",
       "      <td>178</td>\n",
       "      <td>1</td>\n",
       "      <td>2009</td>\n",
       "      <td>USA</td>\n",
       "      <td>English</td>\n",
       "      <td>PG-13</td>\n",
       "      <td>237000000</td>\n",
       "      <td>760505847</td>\n",
       "      <td>...</td>\n",
       "      <td>1</td>\n",
       "      <td>855</td>\n",
       "      <td>4834</td>\n",
       "      <td>1</td>\n",
       "      <td>33000</td>\n",
       "      <td>0</td>\n",
       "      <td>886204</td>\n",
       "      <td>3054</td>\n",
       "      <td>7.9</td>\n",
       "      <td>0</td>\n",
       "    </tr>\n",
       "  </tbody>\n",
       "</table>\n",
       "<p>1 rows × 36 columns</p>\n",
       "</div>"
      ],
      "text/plain": [
       "   movie_ID movie_title  duration  color  title_year country language  \\\n",
       "0         1      Avatar       178      1        2009     USA  English   \n",
       "\n",
       "  content_rating  budget_USD  gross_USD      ...       actor_3_facebook?  \\\n",
       "0          PG-13   237000000  760505847      ...                       1   \n",
       "\n",
       "   actor_3_facebook_likes cast_total_facebook_likes movie_facebook?  \\\n",
       "0                     855                      4834               1   \n",
       "\n",
       "   movie_facebook_likes;  facenumber_in_poster num_voted_users  \\\n",
       "0                  33000                     0          886204   \n",
       "\n",
       "   num_user_for_reviews  imdb_score  imdb_top_250  \n",
       "0                  3054         7.9             0  \n",
       "\n",
       "[1 rows x 36 columns]"
      ]
     },
     "execution_count": 270,
     "metadata": {},
     "output_type": "execute_result"
    }
   ],
   "source": [
    "#What movie that resulted highest nett profit of all dataset times? How much did the movie make?\n",
    "data[data['net_USD']==np.max(data['net_USD'])"
   ]
  }
 ],
 "metadata": {
  "kernelspec": {
   "display_name": "Python 3",
   "language": "python",
   "name": "python3"
  },
  "language_info": {
   "codemirror_mode": {
    "name": "ipython",
    "version": 3
   },
   "file_extension": ".py",
   "mimetype": "text/x-python",
   "name": "python",
   "nbconvert_exporter": "python",
   "pygments_lexer": "ipython3",
   "version": "3.6.4"
  }
 },
 "nbformat": 4,
 "nbformat_minor": 2
}
